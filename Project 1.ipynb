{
 "cells": [
  {
   "cell_type": "markdown",
   "id": "3be6a36e-5587-4369-b414-6f0de2e088cc",
   "metadata": {},
   "source": [
    "import pandas as pd\n",
    "from datetime import datetime\n",
    "df = pd.read_csv(\"Downloads/traffic_stops - traffic_stops_with_vehicle_number.csv\",low_memory = False)"
   ]
  },
  {
   "cell_type": "code",
   "execution_count": null,
   "id": "a84ec628-6996-48c0-a5a8-cdb975663d46",
   "metadata": {},
   "outputs": [],
   "source": [
    "import pandas as pd\n",
    "df = pd.read_csv(\"Downloads/traffic_stops - traffic_stops_with_vehicle_number.csv\",low_memory = False)\n",
    "df.head()"
   ]
  },
  {
   "cell_type": "code",
   "execution_count": null,
   "id": "44bf8e74-2a41-476e-8b47-b9f54e428e05",
   "metadata": {},
   "outputs": [],
   "source": [
    "df.tail()"
   ]
  },
  {
   "cell_type": "code",
   "execution_count": null,
   "id": "bc9a7e84-39fe-4efe-94d7-c0ab50fe5ca9",
   "metadata": {},
   "outputs": [],
   "source": [
    "df.info()"
   ]
  },
  {
   "cell_type": "code",
   "execution_count": null,
   "id": "9149e53e-a9ee-4a36-8f62-84be543ac401",
   "metadata": {},
   "outputs": [],
   "source": [
    "df.dropna()"
   ]
  },
  {
   "cell_type": "code",
   "execution_count": null,
   "id": "172365af-d3f7-4b7b-8c4f-d2cadb6d2117",
   "metadata": {},
   "outputs": [],
   "source": [
    "df = df.fillna(value = 'None')"
   ]
  },
  {
   "cell_type": "code",
   "execution_count": null,
   "id": "67745ba1-4915-4f14-811b-3e0f509bb034",
   "metadata": {},
   "outputs": [],
   "source": [
    "df['search_type'].isnull().sum()\n",
    "\n"
   ]
  },
  {
   "cell_type": "code",
   "execution_count": null,
   "id": "032a5450-7b6b-43da-a61a-3d623a3dd6c8",
   "metadata": {},
   "outputs": [],
   "source": [
    "!pip install mysql-connector-python\n"
   ]
  },
  {
   "cell_type": "code",
   "execution_count": null,
   "id": "37a7ea76-8067-4a35-b1a9-0b7f153beeda",
   "metadata": {},
   "outputs": [],
   "source": [
    "df.country_name.describe()"
   ]
  },
  {
   "cell_type": "code",
   "execution_count": null,
   "id": "d9fbd73d-df23-4190-b12f-d7f13b39c849",
   "metadata": {},
   "outputs": [],
   "source": [
    "\n",
    "import mysql.connector\n",
    "import pandas as pd\n",
    "!pip install streamlit\n",
    "import plotly.express as px\n",
    "!pip install cryptography\n",
    "\n",
    "df = pd.read_csv(\"Downloads/traffic_stops - traffic_stops_with_vehicle_number.csv\",low_memory = False)  \n",
    "df = df.fillna(value=\"None\")\n",
    "\n",
    "conn = mysql.connector.connect(\n",
    "    host=\"localhost\",\n",
    "    user=\"root\",\n",
    "    port=\"3306\",\n",
    "    password=\"NewPassword\",\n",
    "    database=\"traffic_stops_data\"\n",
    ")\n",
    "cursor = conn.cursor()\n",
    "\n",
    "query = \"\"\"\n",
    "INSERT INTO police_post_logs (\n",
    "    stop_date, stop_time, country_name, driver_gender, driver_age_raw,\n",
    "    driver_age, driver_race, violation_raw, violation, search_conducted,\n",
    "    search_type, stop_outcome, is_arrested, stop_duration,\n",
    "    drugs_related_stop, vehicle_number\n",
    ") VALUES (%s, %s, %s, %s, %s, %s, %s, %s, %s, %s, %s, %s, %s, %s, %s, %s);\n",
    "\"\"\"\n",
    "\n",
    "data = [tuple(row) for row in df.itertuples(index=False)]\n",
    "\n",
    "cursor.executemany(query, data)\n",
    "conn.commit()\n",
    "\n",
    "print(f\"{cursor.rowcount} rows inserted successfully.\")\n",
    "\n",
    "cursor.close()\n",
    "conn.close()\n",
    "\n"
   ]
  },
  {
   "cell_type": "raw",
   "id": "4d2c4bd8-9ecf-44ae-b12c-c8013a7161e4",
   "metadata": {},
   "source": [
    "\n"
   ]
  },
  {
   "cell_type": "code",
   "execution_count": null,
   "id": "aff1da55-55b4-4787-94d5-3a22328302cc",
   "metadata": {},
   "outputs": [],
   "source": []
  },
  {
   "cell_type": "code",
   "execution_count": null,
   "id": "14018896-a004-44ce-a2d5-68d37b8d2a9f",
   "metadata": {},
   "outputs": [],
   "source": []
  },
  {
   "cell_type": "code",
   "execution_count": null,
   "id": "7ffa2a0e-7808-472c-96f7-9f073777be1f",
   "metadata": {},
   "outputs": [],
   "source": []
  }
 ],
 "metadata": {
  "kernelspec": {
   "display_name": "Python [conda env:base] *",
   "language": "python",
   "name": "conda-base-py"
  },
  "language_info": {
   "codemirror_mode": {
    "name": "ipython",
    "version": 3
   },
   "file_extension": ".py",
   "mimetype": "text/x-python",
   "name": "python",
   "nbconvert_exporter": "python",
   "pygments_lexer": "ipython3",
   "version": "3.13.5"
  }
 },
 "nbformat": 4,
 "nbformat_minor": 5
}
